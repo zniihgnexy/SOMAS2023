{
 "cells": [
  {
   "cell_type": "code",
   "execution_count": null,
   "metadata": {},
   "outputs": [],
   "source": [
    "import json\n",
    "import copy\n",
    "import random\n",
    "import time\n",
    "\n",
    "#Functions for generating game states\n",
    "def generate_next_gameloop(current_state, current_round):\n",
    "    \"\"\"\n",
    "    Generates the next game loop in a game based on the current state.\n",
    "\n",
    "    :param current_state: A JSON object representing the current state of the game.\n",
    "    :return: A JSON object representing the next state of the game.\n",
    "    \"\"\"\n",
    "    # Deep copy the current state to avoid modifying the original state\n",
    "    new_state = copy.deepcopy(current_state)\n",
    "    # Increment the game loop number\n",
    "    new_state[f\"loop_{current_round + 1}\"] = copy.deepcopy(current_state[f\"loop_{current_round}\"])\n",
    "\n",
    "    # Process each bike and its agents\n",
    "    for bike in new_state[f\"loop_{current_round + 1}\"]['bikes'].values():\n",
    "        # Check if the awdi intersects this bike\n",
    "        awdi_intersects = new_state[f\"loop_{current_round + 1}\"]['awdi']['target'] == bike['id']\n",
    "        bike[\"position\"][\"x\"] = bike[\"position\"][\"x\"] + random.randint(-10, 10)\n",
    "        bike[\"position\"][\"y\"] = bike[\"position\"][\"y\"] + random.randint(-10, 10)\n",
    "        # Process each agent on the bike\n",
    "        for agent in bike['agents'].values():\n",
    "            # If the awdi intersects, remove all agents from the bike\n",
    "            if awdi_intersects:\n",
    "                agent['energy'] = 0  # Setting energy to 0 as they are eliminated\n",
    "\n",
    "            # Update agent's energy and check if they should be moved to bike 0\n",
    "            if agent['energy'] > 0:\n",
    "                agent['energy'] -= 1  # Decrease energy by 1 for this loop\n",
    "                if agent['energy'] == 0:\n",
    "                    # Move to bike 0\n",
    "                    agent['bikeID'] = '0x0'\n",
    "            else:\n",
    "                # Already on bike 0 or moved to bike 0\n",
    "                agent['bikeID'] = '0x0'\n",
    "\n",
    "    # Handle agents on bike 0 (this can be expanded with more logic if needed)\n",
    "    # Currently, it only ensures they are on bike 0\n",
    "    # update awdi position\n",
    "    new_state[f\"loop_{current_round + 1}\"]['awdi']['position']['x'] += random.randint(-10, 10)\n",
    "    new_state[f\"loop_{current_round + 1}\"]['awdi']['position']['y'] += random.randint(-10, 10)\n",
    "    return new_state\n",
    "\n",
    "def generate_initial_state():\n",
    "    \"\"\"\n",
    "    Generates an initial game state with a random number of bikes and agents.\n",
    "\n",
    "    :return: A JSON object representing the initial state of the game.\n",
    "    \"\"\"\n",
    "    # Define possible colors for agents\n",
    "    possible_colours = [\"Red\", \"Green\", \"Blue\", \"Yellow\", \"Orange\", \"Purple\", \"Pink\", \"Brown\", \"Gray\", \"White\"]\n",
    "\n",
    "    # Initialize the game state\n",
    "    initial_state = {\n",
    "        \"loop_0\": {\n",
    "            \"bikes\": {},\n",
    "            \"lootboxes\": {},  # This can be populated with lootbox data if needed\n",
    "            \"awdi\": {\n",
    "                \"target\": None,  # No target initially\n",
    "                \"position\": {\"x\": random.randint(-300, 300), \"y\": random.randint(-300, 300)},\n",
    "            }\n",
    "        },\n",
    "    }\n",
    "\n",
    "    # Randomly determine the number of bikes\n",
    "    num_bikes = random.randint(6, 10)\n",
    "\n",
    "    for bike_id in range(1, num_bikes + 1):\n",
    "        # Each bike will have a unique ID\n",
    "        bike_key = f\"bike_{bike_id}\"\n",
    "\n",
    "        # Randomly determine the number of agents on this bike\n",
    "        num_agents = random.randint(3, 9)\n",
    "        bike_agents = {}\n",
    "\n",
    "        for agent_id in range(1, num_agents + 1):\n",
    "            # Each agent will have a unique ID and randomly assigned color\n",
    "            agent_key = f\"agent_{bike_id}_{agent_id}\"\n",
    "            agent_colour = random.choice(possible_colours)\n",
    "\n",
    "            # Define the agent\n",
    "            bike_agents[agent_key] = {\n",
    "                \"id\": agent_key,\n",
    "                \"groupID\": random.randint(0, 8),\n",
    "                \"colour\": agent_colour,\n",
    "                \"points\": 0,\n",
    "                \"energy\": 100,  # Initial energy can be adjusted\n",
    "                # The rest of the agent's attributes are placeholders\n",
    "                \"bikes\": {},\n",
    "                \"forces\": {},\n",
    "                \"lootboxChoice\": None,\n",
    "                \"lootDistribution\": [],\n",
    "            }\n",
    "\n",
    "        # Add the bike and its agents to the game state\n",
    "        initial_state[\"loop_0\"][\"bikes\"][bike_key] = {\n",
    "            \"id\": bike_key,\n",
    "            \"position\": {\"x\": random.randint(-300, 300), \"y\": random.randint(-300, 300)},\n",
    "            \"agents\": bike_agents\n",
    "        }\n",
    "\n",
    "    # add lootboxes\n",
    "    num_lootboxes = random.randint(4, 12)\n",
    "    for lootbox_id in range(1, num_lootboxes + 1):\n",
    "        lootbox_key = f\"lootbox_{lootbox_id}\"\n",
    "        initial_state[\"loop_0\"][\"lootboxes\"][lootbox_key] = {\n",
    "            \"id\": lootbox_key,\n",
    "            \"position\": {\n",
    "                \"x\": random.randint(-500, 500),\n",
    "                \"y\": random.randint(-500, 500)\n",
    "            },\n",
    "            \"colour\": random.choice(possible_colours),\n",
    "        }\n",
    "    \n",
    "    # add awdi\n",
    "    initial_state[\"loop_0\"][\"awdi\"][\"id\"] = \"awdi\"\n",
    "    initial_state[\"loop_0\"][\"awdi\"][\"position\"] = {\n",
    "        \"x\": random.randint(-500, 500),\n",
    "        \"y\": random.randint(-500, 500)\n",
    "    }\n",
    "\n",
    "    return initial_state\n"
   ]
  },
  {
   "cell_type": "code",
   "execution_count": null,
   "metadata": {},
   "outputs": [],
   "source": [
    "# Generate the initial state and run the game for LOOPS number of loops\n",
    "initial_state = generate_initial_state()\n",
    "LOOPS = 10\n",
    "for i in range(LOOPS):\n",
    "    initial_state = generate_next_gameloop(initial_state, i)\n",
    "with open(f\"./visualiser/JSON/test2.json\", \"w\") as f:\n",
    "    json.dump(initial_state, f, indent=4)"
   ]
  },
  {
   "cell_type": "code",
   "execution_count": null,
   "metadata": {},
   "outputs": [],
   "source": [
    "import json\n",
    "with open(\"../../../game_dump.json\", \"r\") as f:\n",
    "    data = json.load(f)"
   ]
  },
  {
   "cell_type": "code",
   "execution_count": null,
   "metadata": {},
   "outputs": [],
   "source": [
    "for bike in data[0][\"bikes\"]:\n",
    "    print(bike[\"agents\"][0])"
   ]
  },
  {
   "cell_type": "code",
   "execution_count": 13,
   "metadata": {},
   "outputs": [
    {
     "name": "stdout",
     "output_type": "stream",
     "text": [
      "{'id': 'c3f60ba6-9917-4af2-854c-dddda481f1a5', 'physical_state': {'position': {'x': 379.2924977174136, 'y': 18.741400417727487}, 'acceleration': 0, 'velocity': 0, 'mass': 50}, 'agents': []}\n"
     ]
    }
   ],
   "source": [
    "print(bike)"
   ]
  },
  {
   "cell_type": "code",
   "execution_count": null,
   "metadata": {},
   "outputs": [],
   "source": [
    "# for audi in data[0][\"audi\":]\n",
    "print(data[0][\"audi\"])"
   ]
  },
  {
   "cell_type": "code",
   "execution_count": 14,
   "metadata": {},
   "outputs": [
    {
     "name": "stdout",
     "output_type": "stream",
     "text": [
      "{'id': 'ab3ae98d-cc77-49e7-a61a-12f1e192adbd', 'physical_state': {'position': {'x': 174.19206318464458, 'y': 401.2478960094951}, 'acceleration': 0, 'velocity': 0, 'mass': 0}, 'total_resources': 6.916819697775168, 'colour': 'orange'}\n"
     ]
    }
   ],
   "source": [
    "print(data[0][\"loot_boxes\"][0])"
   ]
  }
 ],
 "metadata": {
  "kernelspec": {
   "display_name": "base",
   "language": "python",
   "name": "python3"
  },
  "language_info": {
   "codemirror_mode": {
    "name": "ipython",
    "version": 3
   },
   "file_extension": ".py",
   "mimetype": "text/x-python",
   "name": "python",
   "nbconvert_exporter": "python",
   "pygments_lexer": "ipython3",
   "version": "3.10.9"
  }
 },
 "nbformat": 4,
 "nbformat_minor": 2
}
